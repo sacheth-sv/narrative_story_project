{
 "cells": [
  {
   "cell_type": "code",
   "execution_count": 1,
   "metadata": {},
   "outputs": [],
   "source": [
    "import pandas as pd\n",
    "import numpy as np"
   ]
  },
  {
   "cell_type": "code",
   "execution_count": 27,
   "metadata": {},
   "outputs": [],
   "source": [
    "df = pd.read_excel(\"data/state_policies_raw.xlsx\")\n",
    "columns = df.columns\n",
    "units = df.iloc[3].to_numpy()\n",
    "\n",
    "## Keep only the columns that are \"date\"\n",
    "date_columns = [col for col, unit in zip(columns, units) if unit == \"date\"]\n",
    "rel_columns = [\"STATE\", \"POSTCODE\"] + date_columns\n",
    "df = df[rel_columns]"
   ]
  },
  {
   "cell_type": "code",
   "execution_count": 61,
   "metadata": {},
   "outputs": [],
   "source": [
    "state_of_interest = \"Alabama\"\n",
    "\n",
    "## Get the row of the state of interest\n",
    "def get_policy_info_about_state(state_of_interest):\n",
    "    col_desc = df.iloc[0]\n",
    "    rest_type_row = df.iloc[2]\n",
    "    state_row = df[df[\"STATE\"] == state_of_interest].iloc[0]\n",
    "\n",
    "    state = []\n",
    "    state_abbr = []\n",
    "    restriction_desc = []\n",
    "    restriction_type = []\n",
    "    restriction_date = []\n",
    "\n",
    "    for idx in range(0, len(state_row)):\n",
    "        if state_row.iloc[idx] != 0 and type(state_row.iloc[idx]) != str:\n",
    "            state.append(state_of_interest)\n",
    "            state_abbr.append(state_row[\"POSTCODE\"])\n",
    "            restriction_desc.append(col_desc.iloc[idx])\n",
    "            restriction_type.append(rest_type_row.iloc[idx])\n",
    "            restriction_date.append(state_row.iloc[idx])\n",
    "    \n",
    "    return state, state_abbr, restriction_desc, restriction_type, restriction_date\n",
    "\n",
    "states = df[\"STATE\"].iloc[4:].values\n",
    "\n",
    "state_list = []\n",
    "state_abbr_list = []\n",
    "restriction_desc_list = []\n",
    "restriction_type_list = []\n",
    "restriction_date_list = []\n",
    "\n",
    "for state in states:\n",
    "    state, state_abbr, restriction_desc, restriction_type, restriction_date = get_policy_info_about_state(state)\n",
    "    state_list += state\n",
    "    state_abbr_list += state_abbr\n",
    "    restriction_desc_list += restriction_desc\n",
    "    restriction_type_list += restriction_type\n",
    "    restriction_date_list += restriction_date\n",
    "\n",
    "state_policy_array = pd.DataFrame({\n",
    "    \"state\": state_list,\n",
    "    \"state_abbr\": state_abbr_list,\n",
    "    \"restriction_desc\": restriction_desc_list,\n",
    "    \"restriction_type\": restriction_type_list,\n",
    "    \"restriction_date\": restriction_date_list\n",
    "})\n",
    "\n",
    "state_policy_type = pd.read_excel(\"data/state_policy_categorization.xlsx\")\n",
    "\n",
    "state_policy_array = state_policy_array.merge(state_policy_type, left_on=\"restriction_desc\", right_on=\"Policy Desc.\", how=\"inner\")\n",
    "state_policies_cleaned = state_policy_array[[\"state\", \"state_abbr\", \"restriction_desc\", \"restriction_type\", \"Policy Type\", \"restriction_date\"]]\n",
    "state_policies_cleaned.to_csv(\"data/state_policies_cleaned.csv\", index=False)"
   ]
  },
  {
   "cell_type": "code",
   "execution_count": 117,
   "metadata": {},
   "outputs": [],
   "source": [
    "state_of_interest = \"Illinois\"\n",
    "\n",
    "contact_reduce_num_list = []\n",
    "notification_num_list = []\n",
    "mask_vaccine_num_list = []\n",
    "\n",
    "\n",
    "for state_of_interest in states:\n",
    "    state_info = state_policies_cleaned.loc[state_policies_cleaned[\"state\"] == state_of_interest].reset_index(drop=True)\n",
    "\n",
    "    number_of_contact_reduction_policies = len(state_info.loc[(state_info[\"Policy Type\"] == \"Contact Reduction\") & (state_info[\"restriction_type\"] ==\"start\")])\n",
    "    number_of_notification_policies = len(state_info.loc[(state_info[\"Policy Type\"] == \"Notification\") & (state_info[\"restriction_type\"] ==\"start\")])\n",
    "    number_of_mask_madates = len(state_info.loc[(state_info[\"Policy Type\"] == \"Mask/Vaccine Mandate\") & (state_info[\"restriction_type\"] ==\"start\")])\n",
    "\n",
    "    contact_reduce_num_list.append(number_of_contact_reduction_policies)\n",
    "    notification_num_list.append(number_of_notification_policies)\n",
    "    mask_vaccine_num_list.append(number_of_mask_madates)\n",
    "\n",
    "\n",
    "state_policy_summary = pd.DataFrame({\n",
    "    \"state\": states,\n",
    "    \"contact_reduce_num\": contact_reduce_num_list,\n",
    "    \"notification_num\": notification_num_list,\n",
    "    \"mask_vaccine_num\": mask_vaccine_num_list\n",
    "})\n"
   ]
  },
  {
   "cell_type": "code",
   "execution_count": 118,
   "metadata": {},
   "outputs": [],
   "source": [
    "weights = [5,1,10]\n",
    "state_policy_summary[\"Strictness\"] = state_policy_summary[\"contact_reduce_num\"] * weights[0] + state_policy_summary[\"notification_num\"] * weights[1] + state_policy_summary[\"mask_vaccine_num\"] * weights[2]\n",
    "## Normalize the strictness\n",
    "state_policy_summary[\"Strictness\"] = state_policy_summary[\"Strictness\"] / state_policy_summary[\"Strictness\"].max()\n",
    "## Order the states by strictness\n",
    "state_policy_summary = state_policy_summary.sort_values(by=\"Strictness\", ascending=False)\n",
    "\n",
    "state_policy_summary[\"Strict_Label\"] = \"Lax\"\n",
    "state_policy_summary.loc[state_policy_summary[\"Strictness\"] > 0.8, \"Strict_Label\"] = \"Moderate\"\n",
    "state_policy_summary.loc[state_policy_summary[\"Strictness\"] > 0.9, \"Strict_Label\"] = \"Strict\"\n",
    "\n",
    "case_count = pd.read_csv(\"data/us-counties.csv\")\n",
    "num_infected = case_count.groupby(\"state\")[\"cases\"].sum().reset_index()\n",
    "num_fatalities = case_count.groupby(\"state\")[\"deaths\"].sum().reset_index()\n",
    "\n",
    "state_policy_summary = state_policy_summary.merge(num_infected, left_on=\"state\", right_on=\"state\", how=\"inner\")\n",
    "state_policy_summary = state_policy_summary.merge(num_fatalities, left_on=\"state\", right_on=\"state\", how=\"inner\")\n",
    "\n",
    "population = pd.read_excel(\"data/PopulationEstimates.xlsx\")\n",
    "population = population.loc[population[\"Area_Name\"].isin(states), [\"Area_Name\", \"CENSUS_2020_POP\"]]\n",
    "population = population.rename(columns={\n",
    "    \"Area_Name\": \"state\",\n",
    "    \"CENSUS_2020_POP\": \"population\"\n",
    "})\n",
    "\n",
    "state_policy_summary = state_policy_summary.merge(population, left_on=\"state\", right_on=\"state\", how=\"inner\")"
   ]
  },
  {
   "cell_type": "code",
   "execution_count": 122,
   "metadata": {},
   "outputs": [
    {
     "data": {
      "text/html": [
       "<div>\n",
       "<style scoped>\n",
       "    .dataframe tbody tr th:only-of-type {\n",
       "        vertical-align: middle;\n",
       "    }\n",
       "\n",
       "    .dataframe tbody tr th {\n",
       "        vertical-align: top;\n",
       "    }\n",
       "\n",
       "    .dataframe thead th {\n",
       "        text-align: right;\n",
       "    }\n",
       "</style>\n",
       "<table border=\"1\" class=\"dataframe\">\n",
       "  <thead>\n",
       "    <tr style=\"text-align: right;\">\n",
       "      <th></th>\n",
       "      <th>infection_ratio</th>\n",
       "      <th>fatality_ratio</th>\n",
       "    </tr>\n",
       "    <tr>\n",
       "      <th>Strict_Label</th>\n",
       "      <th></th>\n",
       "      <th></th>\n",
       "    </tr>\n",
       "  </thead>\n",
       "  <tbody>\n",
       "    <tr>\n",
       "      <th>Lax</th>\n",
       "      <td>79.293114</td>\n",
       "      <td>1.114137</td>\n",
       "    </tr>\n",
       "    <tr>\n",
       "      <th>Moderate</th>\n",
       "      <td>78.628840</td>\n",
       "      <td>1.272795</td>\n",
       "    </tr>\n",
       "    <tr>\n",
       "      <th>Strict</th>\n",
       "      <td>66.300740</td>\n",
       "      <td>1.274181</td>\n",
       "    </tr>\n",
       "  </tbody>\n",
       "</table>\n",
       "</div>"
      ],
      "text/plain": [
       "              infection_ratio  fatality_ratio\n",
       "Strict_Label                                 \n",
       "Lax                 79.293114        1.114137\n",
       "Moderate            78.628840        1.272795\n",
       "Strict              66.300740        1.274181"
      ]
     },
     "execution_count": 122,
     "metadata": {},
     "output_type": "execute_result"
    }
   ],
   "source": [
    "state_policy_summary[\"infection_ratio\"] = state_policy_summary[\"cases\"] / state_policy_summary[\"population\"]\n",
    "state_policy_summary[\"fatality_ratio\"] = state_policy_summary[\"deaths\"] / state_policy_summary[\"population\"]\n",
    "state_policy_summary.groupby(\"Strict_Label\")[[\"infection_ratio\", \"fatality_ratio\"]].median()"
   ]
  },
  {
   "cell_type": "code",
   "execution_count": 123,
   "metadata": {},
   "outputs": [],
   "source": [
    "state_policy_summary.T.to_csv(\"data/state_policy_summary.csv\", index=False)"
   ]
  },
  {
   "cell_type": "code",
   "execution_count": null,
   "metadata": {},
   "outputs": [],
   "source": []
  }
 ],
 "metadata": {
  "kernelspec": {
   "display_name": "cs441_project",
   "language": "python",
   "name": "python3"
  },
  "language_info": {
   "codemirror_mode": {
    "name": "ipython",
    "version": 3
   },
   "file_extension": ".py",
   "mimetype": "text/x-python",
   "name": "python",
   "nbconvert_exporter": "python",
   "pygments_lexer": "ipython3",
   "version": "3.11.8"
  }
 },
 "nbformat": 4,
 "nbformat_minor": 2
}
